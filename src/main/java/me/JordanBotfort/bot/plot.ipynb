{
 "cells": [
  {
   "cell_type": "code",
   "execution_count": null,
   "metadata": {},
   "outputs": [],
   "source": [
    "import io\n",
    "import pandas as pd\n",
    "import sys\n",
    "from datetime import datetime\n",
    "import json\n",
    "\n",
    "# user = sys.argv[1]\n",
    "user = \"roy_h92\""
   ]
  },
  {
   "cell_type": "code",
   "execution_count": null,
   "metadata": {},
   "outputs": [],
   "source": [
    "#updates total assets\n",
    "total = 0\n",
    "try:\n",
    "    with open(\"./\" + user + \"/assets.json\") as json_file:\n",
    "        assets = json.load(json_file)\n",
    "    total = assets.get(\"stocks\", 0) + assets.get(\"fund\", 0)\n",
    "except FileNotFoundError:\n",
    "    quit()\n",
    "\n",
    "status = open(\"./\" + user + \"/status.txt\", \"a\")\n",
    "now = datetime.now().strftime('%m/%d-%H:%M')\n",
    "status.write(now + \" %f\\n\" %total)\n",
    "status.close()\n",
    "\n",
    "assets[\"stocks\"] = 0\n",
    "with open(\"./\" + user + \"/assets.json\", \"w\") as json_file:\n",
    "    json.dump(assets, json_file)"
   ]
  },
  {
   "cell_type": "code",
   "execution_count": null,
   "metadata": {},
   "outputs": [],
   "source": [
    "data = pd.read_csv(\"./\" + user + \"/status.txt\", sep=\" \", header=None, names = [\"Time\", \"Assets\"])\n",
    "print(data)\n",
    "fig = data.plot(\"Time\", \"Assets\", figsize = (10, 7), title = \"Total assets over time\")\n",
    "fig.figure.savefig(\"./\" + user + \"/fig.png\")"
   ]
  }
 ],
 "metadata": {
  "kernelspec": {
   "display_name": "Python 3.10.2 64-bit",
   "language": "python",
   "name": "python3"
  },
  "language_info": {
   "codemirror_mode": {
    "name": "ipython",
    "version": 3
   },
   "file_extension": ".py",
   "mimetype": "text/x-python",
   "name": "python",
   "nbconvert_exporter": "python",
   "pygments_lexer": "ipython3",
   "version": "3.10.2"
  },
  "orig_nbformat": 4,
  "vscode": {
   "interpreter": {
    "hash": "369f2c481f4da34e4445cda3fffd2e751bd1c4d706f27375911949ba6bb62e1c"
   }
  }
 },
 "nbformat": 4,
 "nbformat_minor": 2
}
